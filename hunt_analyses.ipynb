{
 "cells": [
  {
   "cell_type": "markdown",
   "metadata": {},
   "source": [
    "# Imports"
   ]
  },
  {
   "cell_type": "code",
   "execution_count": 7,
   "metadata": {},
   "outputs": [],
   "source": [
    "import os\n",
    "from pathlib import Path\n",
    "\n",
    "import matplotlib.pyplot as plt\n",
    "import pandas as pd"
   ]
  },
  {
   "cell_type": "markdown",
   "metadata": {},
   "source": [
    "# Load Data"
   ]
  },
  {
   "cell_type": "code",
   "execution_count": null,
   "metadata": {},
   "outputs": [],
   "source": [
    "# Load the data\n",
    "input_file_foras = list(Path(os.path.join(\"data\")).glob(\"PTSS_Data_Foras.xlsx\"))[0]\n",
    "input_file_synergy = list(Path(os.path.join(\"data\")).glob(\"PTSS_Data_Synergy.xlsx\"))[0]\n",
    "fulltext_foras = list(Path(os.path.join(\"data\")).glob(\"PTSS_Data_Foras_Fulltext.xlsx\"))[\n",
    "    0\n",
    "]\n",
    "fulltext_foras_2nd = list(\n",
    "    Path(os.path.join(\"data\")).glob(\"PTSS_Data_Foras_Fulltext_2ndscreener.xlsx\")\n",
    ")[0]\n",
    "fulltext_synergy = list(\n",
    "    Path(os.path.join(\"data\")).glob(\"PTSS_Data_Synergy_Fulltext.xlsx\")\n",
    ")[0]\n",
    "\n",
    "# Print the file names\n",
    "print(\n",
    "    \"Results based on file: \",\n",
    "    input_file_foras,\n",
    "    input_file_synergy,\n",
    "    fulltext_foras,\n",
    "    fulltext_foras_2nd,\n",
    "    fulltext_synergy,\n",
    ")\n",
    "\n",
    "# Read the foras file and filter out the duplicates\n",
    "foras_unfiltered = pd.read_excel(input_file_foras)\n",
    "foras_filtered = foras_unfiltered[foras_unfiltered[\"filter_duplicate\"] != 1]\n",
    "\n",
    "# Read the other files\n",
    "synergy = pd.read_excel(input_file_synergy)\n",
    "fulltext_foras = pd.read_excel(fulltext_foras)\n",
    "fulltext_foras_2nd = pd.read_excel(fulltext_foras_2nd)\n",
    "fulltext_synergy = pd.read_excel(fulltext_synergy)\n",
    "\n",
    "# Print the number of rows in each file\n",
    "print(\"Number of records in original FORAS file: \", foras_unfiltered.shape[0])\n",
    "print(\n",
    "    \"Number of records in FORAS after filtering duplicates: \", foras_filtered.shape[0]\n",
    ")\n",
    "print(\"Number of records in SYNERGY\", synergy.shape[0])\n",
    "print(\"Number of records in FORAS fulltext\", fulltext_foras.shape[0])\n",
    "print(\"Number of records in FORAS fulltext 2nd screener\", fulltext_foras_2nd.shape[0])\n",
    "print(\"Number of records in SYNERGY fulltext\", fulltext_synergy.shape[0])"
   ]
  },
  {
   "cell_type": "markdown",
   "metadata": {},
   "source": [
    "# Number of PIDs, Titles and Abstracts"
   ]
  },
  {
   "cell_type": "code",
   "execution_count": null,
   "metadata": {},
   "outputs": [],
   "source": [
    "# Function to calculate missing data and plot for a given dataset\n",
    "def analyze_missing_data(dataset, dataset_name):\n",
    "    # Calculate the number of records with missing values for specified columns\n",
    "    num_records_without_doi = dataset[\"doi\"].isnull().sum()\n",
    "    num_records_without_openalex_id = dataset[\"openalex_id\"].isnull().sum()\n",
    "    num_records_without_both = dataset[\n",
    "        dataset[\"doi\"].isnull() & dataset[\"openalex_id\"].isnull()\n",
    "    ].shape[0]\n",
    "    num_records_without_title = dataset[\"title\"].isnull().sum()\n",
    "    num_records_without_abstract = dataset[\"abstract\"].isnull().sum()\n",
    "\n",
    "    # Print the number of records without certain values\n",
    "    print(\n",
    "        f\"{dataset_name} - Number of records without a DOI: {num_records_without_doi}\"\n",
    "    )\n",
    "    print(\n",
    "        f\"{dataset_name} - Number of records without an OpenAlex ID: {num_records_without_openalex_id}\"\n",
    "    )\n",
    "    print(\n",
    "        f\"{dataset_name} - Number of records without a Title: {num_records_without_title}\"\n",
    "    )\n",
    "    print(\n",
    "        f\"{dataset_name} - Number of records without an Abstract: {num_records_without_abstract}\"\n",
    "    )\n",
    "\n",
    "    # Data for plotting\n",
    "    categories = [\n",
    "        \"DOI Missing\",\n",
    "        \"OpenAlex ID Missing\",\n",
    "        \"Both Missing\",\n",
    "        \"Title Missing\",\n",
    "        \"Abstract Missing\",\n",
    "    ]\n",
    "    values = [\n",
    "        num_records_without_doi,\n",
    "        num_records_without_openalex_id,\n",
    "        num_records_without_both,\n",
    "        num_records_without_title,\n",
    "        num_records_without_abstract,\n",
    "    ]\n",
    "    total_records = dataset.shape[0]\n",
    "    percentages = [(value / total_records) * 100 for value in values]\n",
    "\n",
    "    # Creating the bar chart with percentages\n",
    "    plt.figure(figsize=(10, 6))\n",
    "    bars = plt.bar(\n",
    "        categories, percentages, color=[\"blue\", \"orange\", \"green\", \"purple\", \"pink\"]\n",
    "    )\n",
    "\n",
    "    # Adding title and labels for visualization\n",
    "    plt.title(f\"Percentage of Missing Data in Each Category ({dataset_name})\")\n",
    "    plt.xlabel(\"Missing Data Category\")\n",
    "    plt.ylabel(\"Percentage of Total Records\")\n",
    "\n",
    "    # Annotate each bar with its absolute value\n",
    "    for bar, value in zip(bars, values):\n",
    "        height = bar.get_height()\n",
    "        plt.text(\n",
    "            bar.get_x() + bar.get_width() / 2.0,\n",
    "            height,\n",
    "            f\"{value}\",\n",
    "            ha=\"center\",\n",
    "            va=\"bottom\",\n",
    "        )\n",
    "\n",
    "    # Display the chart\n",
    "    plt.show()\n",
    "\n",
    "\n",
    "# Call the function for both datasets\n",
    "analyze_missing_data(foras_filtered, \"Foras\")\n",
    "analyze_missing_data(synergy, \"Synergy\")"
   ]
  }
 ],
 "metadata": {
  "kernelspec": {
   "display_name": "Python 3",
   "language": "python",
   "name": "python3"
  },
  "language_info": {
   "codemirror_mode": {
    "name": "ipython",
    "version": 3
   },
   "file_extension": ".py",
   "mimetype": "text/x-python",
   "name": "python",
   "nbconvert_exporter": "python",
   "pygments_lexer": "ipython3",
   "version": "3.12.0"
  }
 },
 "nbformat": 4,
 "nbformat_minor": 2
}

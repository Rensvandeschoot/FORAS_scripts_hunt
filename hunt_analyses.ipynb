{
 "cells": [
  {
   "cell_type": "markdown",
   "metadata": {},
   "source": [
    "# Basics"
   ]
  },
  {
   "cell_type": "markdown",
   "metadata": {},
   "source": [
    "## Imports"
   ]
  },
  {
   "cell_type": "code",
   "execution_count": 13,
   "metadata": {},
   "outputs": [],
   "source": [
    "import pandas as pd\n",
    "import os\n",
    "from pathlib import Path"
   ]
  },
  {
   "cell_type": "markdown",
   "metadata": {},
   "source": [
    "## Load Data"
   ]
  },
  {
   "cell_type": "code",
   "execution_count": null,
   "metadata": {},
   "outputs": [],
   "source": [
    "input_file_foras = list(Path(os.path.join(\"data\")).glob(\"PTSS_Data_Foras.xlsx\"))[0]\n",
    "input_file_synergy = list(Path(os.path.join(\"data\")).glob(\"PTSS_Data_Synergy.xlsx\"))[0]\n",
    "fulltext_foras = list(Path(os.path.join(\"data\")).glob(\"PTSS_Data_Foras_Fulltext.xlsx\"))[\n",
    "    0\n",
    "]\n",
    "fulltext_synergy = list(\n",
    "    Path(os.path.join(\"data\")).glob(\"PTSS_Data_Synergy_Fulltext.xlsx\")\n",
    ")[0]\n",
    "\n",
    "print(\n",
    "    \"Results based on file: \",\n",
    "    input_file_foras,\n",
    "    input_file_synergy,\n",
    "    fulltext_foras,\n",
    "    fulltext_synergy,\n",
    ")\n",
    "\n",
    "# Read the foras file and filter out the duplicates\n",
    "foras_unfiltered = pd.read_excel(input_file_foras)\n",
    "foras_filtered = foras_unfiltered[foras_unfiltered[\"filter_duplicate\"] != 1]\n",
    "\n",
    "# Read the other files\n",
    "synergy = pd.read_excel(input_file_synergy)\n",
    "fulltext_foras = pd.read_excel(fulltext_foras)\n",
    "fulltext_synergy = pd.read_excel(fulltext_synergy)\n",
    "\n",
    "# Print the number of rows in each file\n",
    "print(\"Number of records in original FORAS file: \", foras_unfiltered.shape[0])\n",
    "print(\n",
    "    \"Number of records in FORAS after filtering duplicates: \", foras_filtered.shape[0]\n",
    ")\n",
    "print(\"Number of records in SYNERGY\", synergy.shape[0])\n",
    "print(\"Number of records in FORAS fulltext\", fulltext_foras.shape[0])\n",
    "print(\"Number of records in SYNERGY fulltext\", fulltext_synergy.shape[0])"
   ]
  },
  {
   "cell_type": "markdown",
   "metadata": {},
   "source": [
    "## Tests"
   ]
  },
  {
   "cell_type": "markdown",
   "metadata": {},
   "source": [
    "### Test if MID is unique"
   ]
  },
  {
   "cell_type": "code",
   "execution_count": null,
   "metadata": {},
   "outputs": [],
   "source": [
    "# Calculate the number of records without an 'MID' value for both datasets\n",
    "num_records_without_mid_foras = foras_filtered[\"MID\"].isnull().sum()\n",
    "num_records_without_mid_synergy = synergy[\"MID\"].isnull().sum()\n",
    "\n",
    "# Calculate the number of duplicate IDs for both datasets\n",
    "num_duplicate_ids_foras = len(foras_filtered[\"MID\"]) - foras_filtered[\"MID\"].nunique()\n",
    "num_duplicate_ids_synergy = len(synergy[\"MID\"]) - synergy[\"MID\"].nunique()\n",
    "\n",
    "# Test for Foras dataset\n",
    "try:\n",
    "    # Check if there are no records without an identifier in the 'MID' column for Foras\n",
    "    assert (\n",
    "        foras_filtered[\"MID\"].notnull().all()\n",
    "    ), f\"Foras test failed: There are {num_records_without_mid_foras} records without an identifier in the 'MID' column.\"\n",
    "\n",
    "    # Check if the identifiers in the 'MID' column are unique for Foras\n",
    "    assert (\n",
    "        foras_filtered[\"MID\"].nunique() == len(foras_filtered[\"MID\"])\n",
    "    ), f\"Foras test failed: There are {num_duplicate_ids_foras} duplicate identifiers in the 'MID' column.\"\n",
    "\n",
    "    # If the test passes for Foras, print the following\n",
    "    print(\n",
    "        \"Foras test passed: 'MID' column contains no records without an identifier and all identifiers are unique.\"\n",
    "    )\n",
    "except AssertionError as e:\n",
    "    print(e)\n",
    "\n",
    "# Test for Synergy dataset\n",
    "try:\n",
    "    # Check if there are no records without an identifier in the 'MID' column for Synergy\n",
    "    assert (\n",
    "        synergy[\"MID\"].notnull().all()\n",
    "    ), f\"Synergy test failed: There are {num_records_without_mid_synergy} records without an identifier in the 'MID' column.\"\n",
    "\n",
    "    # Check if the identifiers in the 'MID' column are unique for Synergy\n",
    "    assert (\n",
    "        synergy[\"MID\"].nunique() == len(synergy[\"MID\"])\n",
    "    ), f\"Synergy test failed: There are {num_duplicate_ids_synergy} duplicate identifiers in the 'MID' column.\"\n",
    "\n",
    "    # If the test passes for Synergy, print the following\n",
    "    print(\n",
    "        \"Synergy test passed: 'MID' column contains no records without an identifier and all identifiers are unique.\"\n",
    "    )\n",
    "except AssertionError as e:\n",
    "    print(e)"
   ]
  }
 ],
 "metadata": {
  "kernelspec": {
   "display_name": "Python 3",
   "language": "python",
   "name": "python3"
  },
  "language_info": {
   "codemirror_mode": {
    "name": "ipython",
    "version": 3
   },
   "file_extension": ".py",
   "mimetype": "text/x-python",
   "name": "python",
   "nbconvert_exporter": "python",
   "pygments_lexer": "ipython3",
   "version": "3.12.0"
  }
 },
 "nbformat": 4,
 "nbformat_minor": 2
}

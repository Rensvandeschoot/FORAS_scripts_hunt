{
 "cells": [
  {
   "cell_type": "markdown",
   "metadata": {},
   "source": [
    "# Basics"
   ]
  },
  {
   "cell_type": "markdown",
   "metadata": {},
   "source": [
    "## Imports"
   ]
  },
  {
   "cell_type": "code",
   "execution_count": 1,
   "metadata": {},
   "outputs": [],
   "source": [
    "import pandas as pd\n",
    "import os\n",
    "from pathlib import Path"
   ]
  },
  {
   "cell_type": "markdown",
   "metadata": {},
   "source": [
    "## Load Data"
   ]
  },
  {
   "cell_type": "code",
   "execution_count": 2,
   "metadata": {},
   "outputs": [
    {
     "name": "stdout",
     "output_type": "stream",
     "text": [
      "Results based on file:  data\\PTSS_Data_Foras.xlsx data\\PTSS_Data_Synergy.xlsx data\\PTSS_Data_Foras_Fulltext.xlsx data\\PTSS_Data_Synergy_Fulltext.xlsx\n",
      "Number of records in original FORAS file:  10595\n",
      "Number of records in FORAS after filtering duplicates:  10523\n",
      "Number of records in SYNERGY 4544\n",
      "Number of records in FORAS fulltext 260\n",
      "Number of records in SYNERGY fulltext 47\n"
     ]
    }
   ],
   "source": [
    "input_file_foras = list(Path(os.path.join('data')).glob('PTSS_Data_Foras.xlsx'))[0]\n",
    "input_file_synergy = list(Path(os.path.join('data')).glob('PTSS_Data_Synergy.xlsx'))[0]\n",
    "fulltext_foras = list(Path(os.path.join('data')).glob('PTSS_Data_Foras_Fulltext.xlsx'))[0]\n",
    "fulltext_synergy = list(Path(os.path.join('data')).glob('PTSS_Data_Synergy_Fulltext.xlsx'))[0]\n",
    "\n",
    "print(\"Results based on file: \", input_file_foras, input_file_synergy, fulltext_foras, fulltext_synergy)\n",
    "\n",
    "# Read the foras file and filter out the duplicates\n",
    "foras_unfiltered = pd.read_excel(input_file_foras)\n",
    "foras_filtered = foras_unfiltered[foras_unfiltered['filter_duplicate'] != 1]\n",
    "\n",
    "# Read the other files\n",
    "synergy = pd.read_excel(input_file_synergy)\n",
    "fulltext_foras = pd.read_excel(fulltext_foras)\n",
    "fulltext_synergy = pd.read_excel(fulltext_synergy)\n",
    "\n",
    "# Print the number of rows in each file\n",
    "print(\"Number of records in original FORAS file: \", foras_unfiltered.shape[0])\n",
    "print(\"Number of records in FORAS after filtering duplicates: \", foras_filtered.shape[0])\n",
    "print(\"Number of records in SYNERGY\", synergy.shape[0])\n",
    "print(\"Number of records in FORAS fulltext\", fulltext_foras.shape[0])\n",
    "print(\"Number of records in SYNERGY fulltext\", fulltext_synergy.shape[0])"
   ]
  }
 ],
 "metadata": {
  "kernelspec": {
   "display_name": "Python 3",
   "language": "python",
   "name": "python3"
  },
  "language_info": {
   "codemirror_mode": {
    "name": "ipython",
    "version": 3
   },
   "file_extension": ".py",
   "mimetype": "text/x-python",
   "name": "python",
   "nbconvert_exporter": "python",
   "pygments_lexer": "ipython3",
   "version": "3.12.0"
  }
 },
 "nbformat": 4,
 "nbformat_minor": 2
}
